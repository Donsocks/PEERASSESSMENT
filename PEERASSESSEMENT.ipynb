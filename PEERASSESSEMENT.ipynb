{
 "cells": [
  {
   "cell_type": "markdown",
   "id": "f7ae8870-a18f-45a7-b042-b2428d954369",
   "metadata": {},
   "source": [
    "<H1>MY SUBMISSION FOR THIS EXERCISE"
   ]
  },
  {
   "cell_type": "markdown",
   "id": "7e20ff1e-68f1-40ed-ab58-f8c85c05acc4",
   "metadata": {},
   "source": [
    "<h2> Introduction\n",
    "\n",
    "In this exercise I am going to put into practice what i have been leaning in this module.\n"
   ]
  },
  {
   "cell_type": "markdown",
   "id": "f690793c-ef82-42e9-8196-a37b6a1d47b5",
   "metadata": {},
   "source": [
    "<h3>Data Science Languages\n",
    "    \n",
    " 1.   Python.\n",
    " 2.   R.\n",
    " 3.   SQL.\n",
    " 4.   Java.\n",
    " 5.   Julia.\n",
    " 6.   Scala.\n",
    " 7.   C/C++\n",
    " 8.   JavaScript."
   ]
  },
  {
   "cell_type": "markdown",
   "id": "88e1aaac-429c-4e93-b4c2-884b32f3e127",
   "metadata": {},
   "source": [
    "<h3>Data Science Libraries\n",
    "    \n",
    "* Tensorflow\n",
    "* Pytorch\n",
    "* Scikit-learn\n",
    "* graph-tool"
   ]
  },
  {
   "cell_type": "markdown",
   "id": "53d1662d-2aee-49c1-8444-59f9f2e7dfc1",
   "metadata": {},
   "source": [
    "<h3>Data Science Tools</h>"
   ]
  },
  {
   "cell_type": "markdown",
   "id": "efa5997b-6f1c-4ede-b1d0-4a3ac9b36c2f",
   "metadata": {},
   "source": [
    "|Tool Name| |Purpose| \n",
    "\n",
    "|-| |-| \n",
    "\n",
    "|DB3|     |Manage data bases|\n",
    "\n",
    "|Excel|   |Create spread sheets|\n",
    "\n",
    "|BigML|   |Topic Modelling|"
   ]
  },
  {
   "cell_type": "markdown",
   "id": "31f08d17-08cf-428b-a302-32e0c2be40bb",
   "metadata": {},
   "source": [
    "<h3>Mathemetical expression Example"
   ]
  },
  {
   "cell_type": "markdown",
   "id": "0033e004-442d-4062-a8ef-f2287736acdf",
   "metadata": {},
   "source": [
    "x=2\n",
    "\n",
    "y=1\n",
    "intialization of two variables.\n"
   ]
  },
  {
   "cell_type": "code",
   "execution_count": 5,
   "id": "e1d61bc1-44aa-42b8-9bed-f04d82dda316",
   "metadata": {},
   "outputs": [
    {
     "name": "stdout",
     "output_type": "stream",
     "text": [
      "5.0\n"
     ]
    }
   ],
   "source": [
    "x=2\n",
    "y=6\n",
    "c=x + y/2\n",
    "print(c)"
   ]
  },
  {
   "cell_type": "code",
   "execution_count": null,
   "id": "d6a11340-0147-4e90-8f07-25a838600a3f",
   "metadata": {},
   "outputs": [],
   "source": []
  },
  {
   "cell_type": "markdown",
   "id": "56f1efef-7412-467e-8705-cc50a9ad4db5",
   "metadata": {},
   "source": [
    "<h3>Objectives\n",
    "    \n",
    "* write code in jupyter\n",
    "    \n",
    "* create a table in markdown "
   ]
  },
  {
   "cell_type": "markdown",
   "id": "f9b148ef-523e-4010-b910-7856b10851ae",
   "metadata": {},
   "source": [
    "<h2>Author\n",
    "\n",
    "Tawanda Don Masokovere"
   ]
  },
  {
   "cell_type": "code",
   "execution_count": null,
   "id": "8308ae2f-f74e-4bfc-8719-bbe13490e777",
   "metadata": {},
   "outputs": [],
   "source": []
  }
 ],
 "metadata": {
  "kernelspec": {
   "display_name": "Python",
   "language": "python",
   "name": "conda-env-python-py"
  },
  "language_info": {
   "codemirror_mode": {
    "name": "ipython",
    "version": 3
   },
   "file_extension": ".py",
   "mimetype": "text/x-python",
   "name": "python",
   "nbconvert_exporter": "python",
   "pygments_lexer": "ipython3",
   "version": "3.7.12"
  }
 },
 "nbformat": 4,
 "nbformat_minor": 5
}
